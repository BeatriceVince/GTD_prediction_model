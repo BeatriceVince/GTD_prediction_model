{
 "cells": [
  {
   "cell_type": "code",
   "execution_count": 1,
   "metadata": {
    "collapsed": true
   },
   "outputs": [],
   "source": [
    "import numpy as np\n",
    "import matplotlib.pyplot as plt"
   ]
  },
  {
   "cell_type": "code",
   "execution_count": 2,
   "metadata": {
    "collapsed": true
   },
   "outputs": [],
   "source": [
    "weights_type = np.array(['noWeight', 'balanced', 'computedWeight'])"
   ]
  },
  {
   "cell_type": "code",
   "execution_count": 3,
   "metadata": {
    "collapsed": false
   },
   "outputs": [],
   "source": [
    "f1_scores = []\n",
    "for w in weights_type:\n",
    "    tuning_results = np.load('tuning_cv_'+w+'_70to94_03.npz')\n",
    "    f1_scores.append(list(tuning_results['mean_f1_micro_test_score']))\n"
   ]
  },
  {
   "cell_type": "code",
   "execution_count": 7,
   "metadata": {
    "collapsed": false
   },
   "outputs": [
    {
     "data": {
      "text/plain": [
       "[[0.54507492843913119,\n",
       "  0.2796430375484088,\n",
       "  0.66829432564404778,\n",
       "  0.54527698265701297,\n",
       "  0.75871358814615253,\n",
       "  0.66839535275298867,\n",
       "  0.76922040747600606,\n",
       "  0.75830947971038898],\n",
       " [0.0217545,\n",
       "  0.0090587600000000008,\n",
       "  0.44374474000000003,\n",
       "  0.034214509999999997,\n",
       "  0.63674019000000004,\n",
       "  0.44148847000000002,\n",
       "  0.69223774999999999,\n",
       "  0.63562889],\n",
       " [0.11978447550092608,\n",
       "  0.11978447550092608,\n",
       "  0.11978447550092608,\n",
       "  0.11978447550092608,\n",
       "  0.34675871358814614,\n",
       "  0.11978447550092608,\n",
       "  0.60272773194140428,\n",
       "  0.34723017342987034]]"
      ]
     },
     "execution_count": 7,
     "metadata": {},
     "output_type": "execute_result"
    }
   ],
   "source": [
    "f1_scores"
   ]
  },
  {
   "cell_type": "code",
   "execution_count": 4,
   "metadata": {
    "collapsed": false
   },
   "outputs": [],
   "source": [
    "X = np.arange(1,13,1.5)\n",
    "width = np.arange(0,0.7,0.3)\n",
    "colors = np.array(['b','g','r'])\n",
    "C= np.array([1,1,10,10,100,100,1000,1000])\n",
    "g= np.array([0.001,0.0001,0.001,0.0001,0.001,0.0001,0.001,0.0001])\n",
    "x_labels = np.array(['C'+str(C[i])+'\\ng'+str(g[i]) for i in range(8)])"
   ]
  },
  {
   "cell_type": "code",
   "execution_count": 6,
   "metadata": {
    "collapsed": false
   },
   "outputs": [
    {
     "data": {
      "text/plain": [
       "<matplotlib.figure.Figure at 0x98a3048>"
      ]
     },
     "metadata": {},
     "output_type": "display_data"
    },
    {
     "data": {
      "image/png": "[encoded data removed]",
      "text/plain": [
       "<matplotlib.figure.Figure at 0x9cf6da0>"
      ]
     },
     "metadata": {},
     "output_type": "display_data"
    }
   ],
   "source": [
    "fig = plt.figure(figsize=(9,6))\n",
    "plt.bar(X + width[0], f1_scores[0], color = colors[0], width = 0.3, label=weights_type[0])\n",
    "plt.bar(X + width[1], f1_scores[1], color = colors[1], width = 0.3, label=weights_type[1])\n",
    "plt.bar(X + width[2], f1_scores[2], color = colors[2], width = 0.3, label=weights_type[2])\n",
    "plt.xticks(X + width[1], list(x_labels))\n",
    "plt.legend()\n",
    "plt.ylim(0,1)\n",
    "plt.xlabel('Model Parameters')\n",
    "plt.ylabel('F1_micro score')\n",
    "#plt.title('Tuning parameters results') \n",
    "plt.tight_layout()\n",
    "plt.show()\n",
    "plt.savefig('tunResults.pdf')"
   ]
  },
  {
   "cell_type": "code",
   "execution_count": null,
   "metadata": {
    "collapsed": true
   },
   "outputs": [],
   "source": []
  }
 ],
 "metadata": {
  "kernelspec": {
   "display_name": "Python 2",
   "language": "python",
   "name": "python2"
  },
  "language_info": {
   "codemirror_mode": {
    "name": "ipython",
    "version": 2
   },
   "file_extension": ".py",
   "mimetype": "text/x-python",
   "name": "python",
   "nbconvert_exporter": "python",
   "pygments_lexer": "ipython2",
   "version": "2.7.13"
  }
 },
 "nbformat": 4,
 "nbformat_minor": 2
}
