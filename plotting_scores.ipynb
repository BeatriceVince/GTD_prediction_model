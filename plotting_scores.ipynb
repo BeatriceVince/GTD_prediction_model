{
 "cells": [
  {
   "cell_type": "code",
   "execution_count": 1,
   "metadata": {
    "collapsed": true
   },
   "outputs": [],
   "source": [
    "import numpy as np\n",
    "import matplotlib.pyplot as plt"
   ]
  },
  {
   "cell_type": "code",
   "execution_count": 2,
   "metadata": {
    "collapsed": true
   },
   "outputs": [],
   "source": [
    "weights_type = np.array(['noWeight', 'balanced', 'computedWeight'])"
   ]
  },
  {
   "cell_type": "code",
   "execution_count": 3,
   "metadata": {
    "collapsed": false
   },
   "outputs": [],
   "source": [
    "f1_scores = []\n",
    "precision_labels = []\n",
    "recall_labels = []\n",
    "f1_labels = []\n",
    "for w in weights_type:\n",
    "    tuning_results = np.load('scores_modelSVC_rbf_C1000g0.001_'+w+'_70to94_03.npz')\n",
    "    f1_scores.append(float(tuning_results['f1_micro']))\n",
    "    precision_labels.append(list(tuning_results['precision_labels']))\n",
    "    recall_labels.append(list(tuning_results['recall_labels']))\n",
    "    f1_labels.append(list(tuning_results['f1_labels']))\n",
    "\n"
   ]
  },
  {
   "cell_type": "code",
   "execution_count": 21,
   "metadata": {
    "collapsed": false
   },
   "outputs": [],
   "source": [
    "labels = tuning_results['labels_unique']"
   ]
  },
  {
   "cell_type": "code",
   "execution_count": 4,
   "metadata": {
    "collapsed": false
   },
   "outputs": [
    {
     "data": {
      "image/png": "[encoded data removed]",
      "text/plain": [
       "<matplotlib.figure.Figure at 0x98a4d68>"
      ]
     },
     "metadata": {},
     "output_type": "display_data"
    }
   ],
   "source": [
    "X_f1_score = np.arange(1,2.5,0.5)\n",
    "#width = np.arange(0,0.7,0.3)\n",
    "colors = np.array(['b','g','r'])\n",
    "#C= np.array([1,1,10,10,100,100,1000,1000])\n",
    "#g= np.array([0.001,0.0001,0.001,0.0001,0.001,0.0001,0.001,0.0001])\n",
    "#x_labels = np.array(['C'+str(C[i])+'\\ng'+str(g[i]) for i in range(8)])\n",
    "fig = plt.figure(figsize=(9,6))\n",
    "plt.bar(X_f1_score, f1_scores, color = colors, width = 0.25)\n",
    "#plt.bar(X + width[1], f1_scores[1], color = colors[1], width = 0.3, label=weights_type[1])\n",
    "#plt.bar(X + width[2], f1_scores[2], color = colors[2], width = 0.3, label=weights_type[2])\n",
    "plt.xticks(X_f1_score, weights_type)\n",
    "#plt.legend()\n",
    "plt.ylim(0,1)\n",
    "plt.xlabel('Different Weight Parameter')\n",
    "plt.ylabel('F1_micro score')\n",
    "#plt.title('Testing results with C and g fixed') \n",
    "plt.tight_layout()\n",
    "plt.show()\n",
    "plt.savefig('score_F1.pdf')\n",
    "#plt.savefig('score_F1.jpg')\n",
    "#plt.savefig('score_F1.jpeg')"
   ]
  },
  {
   "cell_type": "code",
   "execution_count": 24,
   "metadata": {
    "collapsed": false
   },
   "outputs": [],
   "source": [
    "X_prf = np.arange(0,labels.shape[0])"
   ]
  },
  {
   "cell_type": "code",
   "execution_count": null,
   "metadata": {
    "collapsed": false
   },
   "outputs": [],
   "source": [
    "width = np.arange(0,0.6,0.25)\n",
    "x_labels = np.array(['L'+str(i) for i in range(labels.shape[0])])\n",
    "fig2 = plt.figure(figsize=(20,5))\n",
    "plt.bar(X_prf + width[0], f1_labels[0], color = colors[0], width = 0.25, label=weights_type[0])\n",
    "plt.bar(X_prf + width[1], f1_labels[1], color = colors[1], width = 0.25, label=weights_type[1])\n",
    "plt.bar(X_prf + width[2], f1_labels[2], color = colors[2], width = 0.25, label=weights_type[2])\n",
    "#plt.bar(X + width[2], f1_scores[2], color = colors[2], width = 0.3, label=weights_type[2])\n",
    "plt.xticks(X_prf + width[1], list(x_labels))\n",
    "plt.legend()\n",
    "plt.ylim(0,1.1)\n",
    "plt.xlim(-1,labels.shape[0])\n",
    "plt.xlabel('Class Labels')\n",
    "plt.ylabel('precision_micro')\n",
    "plt.title('Precision_micro Score by Label') \n",
    "plt.tight_layout()\n",
    "plt.show()"
   ]
  },
  {
   "cell_type": "code",
   "execution_count": 4,
   "metadata": {
    "collapsed": false
   },
   "outputs": [
    {
     "data": {
      "text/plain": [
       "[0.7807112068965517, 0.6997575431034483, 0.6077586206896551]"
      ]
     },
     "execution_count": 4,
     "metadata": {},
     "output_type": "execute_result"
    }
   ],
   "source": [
    "f1_scores"
   ]
  },
  {
   "cell_type": "code",
   "execution_count": null,
   "metadata": {
    "collapsed": true
   },
   "outputs": [],
   "source": []
  }
 ],
 "metadata": {
  "kernelspec": {
   "display_name": "Python 2",
   "language": "python",
   "name": "python2"
  },
  "language_info": {
   "codemirror_mode": {
    "name": "ipython",
    "version": 2
   },
   "file_extension": ".py",
   "mimetype": "text/x-python",
   "name": "python",
   "nbconvert_exporter": "python",
   "pygments_lexer": "ipython2",
   "version": "2.7.13"
  }
 },
 "nbformat": 4,
 "nbformat_minor": 2
}
