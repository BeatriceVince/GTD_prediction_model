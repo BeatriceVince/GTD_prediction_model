{
 "cells": [
  {
   "cell_type": "code",
   "execution_count": 2,
   "metadata": {
    "collapsed": true
   },
   "outputs": [],
   "source": [
    "import pandas as pd\n",
    "import numpy as np\n",
    "from sklearn.preprocessing import OneHotEncoder\n",
    "from sklearn import preprocessing\n",
    "from joblib import dump\n",
    "from sklearn.model_selection import train_test_split\n",
    "from sklearn.model_selection import GridSearchCV\n",
    "from sklearn.svm import SVC"
   ]
  },
  {
   "cell_type": "code",
   "execution_count": 2,
   "metadata": {
    "collapsed": true
   },
   "outputs": [],
   "source": [
    "def dataset_creation(filename, filename_data, features_dataset, features_class):\n",
    "    #LOADING DATASET FROM FILE\n",
    "    df = pd.read_excel(filename)\n",
    "    dataset = df.loc[:,features_dataset]\n",
    "    target = df.loc[:,features_class]\n",
    "    #SAVE DATASET AND TARGET SET ON FILE\n",
    "    np.savez_compressed(filename_data, dataset=dataset, target=target)\n",
    "    return_labels = ['dataset', 'target']\n",
    "    return np.array(return_labels, dtype=np.str)"
   ]
  },
  {
   "cell_type": "code",
   "execution_count": 9,
   "metadata": {
    "collapsed": true
   },
   "outputs": [],
   "source": [
    "def normalize_features(dataset):\n",
    "    dataset_norm = np.copy(dataset)\n",
    "    #LABELS NORMALIZATION - LABELENCODER\n",
    "    le = preprocessing.LabelEncoder()\n",
    "    for c in range(0,dataset_norm.T.shape[0]):\n",
    "        col = dataset_norm.T[c]\n",
    "        col_norm = le.fit_transform(col)\n",
    "        print('feature '+str(c))\n",
    "        print('max: '+str(np.max(col)))\n",
    "        print('min: '+str(np.min(col)))\n",
    "        print('num_values: '+str(le.classes_.size))\n",
    "        print(col_norm)\n",
    "        print(le.classes_)\n",
    "        print('\\n')\n",
    "        np.put(dataset_norm.T[c], range(0,dataset_norm.shape[0]), col_norm)\n",
    "    return dataset_norm"
   ]
  },
  {
   "cell_type": "code",
   "execution_count": 11,
   "metadata": {
    "collapsed": true
   },
   "outputs": [],
   "source": [
    "def one_hot_encoding(filename, dataset): \n",
    "    #ONE HOT ENCODING\n",
    "    enc = OneHotEncoder()\n",
    "    X_dataset = enc.fit_transform(dataset)\n",
    "    #SAVE the encoder to use later\n",
    "    dump(enc, filename)\n",
    "    print(enc.n_values_)\n",
    "    print(enc.active_features_)\n",
    "    print(enc.feature_indices_)\n",
    "    print(enc.categorical_features)\n",
    "    return X_dataset"
   ]
  },
  {
   "cell_type": "code",
   "execution_count": 1,
   "metadata": {
    "collapsed": true
   },
   "outputs": [],
   "source": [
    "def svc_param_selection(filename_tuning, Cs, gamma, class_weight, n_folds, X_train, y_train):\n",
    "    print('start parameters tuning')\n",
    "    param_grid = {'C': Cs, 'gamma' : gammas}\n",
    "    grid_search = GridSearchCV(SVC(kernel='rbf', class_weight=class_weight), param_grid, cv=n_folds, scoring='f1_micro', verbose=10, n_jobs=5)\n",
    "    grid_search.fit(X_train, y_train)\n",
    "    print('Best parameters for RBF kernel with BALANCED weight classes:')\n",
    "    print(grid_search.best_params_) \n",
    "    #class_weight='balanced': C = 1000; gamma = 0.001; best_f1 = 0.69223775 \n",
    "    np.savez_compressed(filename_tuning, mean_f1_micro_test_score=mean_f1_micro_test_score, C=grid_search.best_params_['C'], gamma=grid_search.best_params_['gamma'])"
   ]
  },
  {
   "cell_type": "code",
   "execution_count": null,
   "metadata": {
    "collapsed": true
   },
   "outputs": [],
   "source": []
  }
 ],
 "metadata": {
  "kernelspec": {
   "display_name": "Python 2",
   "language": "python",
   "name": "python2"
  },
  "language_info": {
   "codemirror_mode": {
    "name": "ipython",
    "version": 2
   },
   "file_extension": ".py",
   "mimetype": "text/x-python",
   "name": "python",
   "nbconvert_exporter": "python",
   "pygments_lexer": "ipython2",
   "version": "2.7.13"
  }
 },
 "nbformat": 4,
 "nbformat_minor": 2
}
